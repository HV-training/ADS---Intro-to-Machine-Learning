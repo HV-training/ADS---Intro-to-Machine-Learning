{
 "cells": [
  {
   "cell_type": "markdown",
   "metadata": {
    "colab_type": "text",
    "id": "UkPA1gn69j55"
   },
   "source": [
    "<h2>Data Exploration</h2>"
   ]
  },
  {
   "cell_type": "markdown",
   "metadata": {
    "colab_type": "text",
    "id": "uU-UpP4z9j57"
   },
   "source": [
    "In this experiment we want to establish a relationship between \"Brain weight\" and \"Head Size\" with simple linear regression"
   ]
  },
  {
   "cell_type": "code",
   "execution_count": 2,
   "metadata": {
    "colab": {},
    "colab_type": "code",
    "id": "yD9qbqFb9j6N",
    "outputId": "8804a902-7d69-41e2-9b1c-b9ecaf067193"
   },
   "outputs": [
    {
     "name": "stdout",
     "output_type": "stream",
     "text": [
      "(237, 4)\n"
     ]
    }
   ],
   "source": [
    "# import all the required modeules\n",
    "\n",
    "import pandas as pd\n",
    "import matplotlib.pyplot as plt\n",
    "import numpy as np\n",
    "\n",
    "\n",
    "# load the data \n",
    "data = pd.read_csv('./headbrain.txt')\n",
    "print(data.shape)"
   ]
  },
  {
   "cell_type": "code",
   "execution_count": 3,
   "metadata": {
    "colab": {},
    "colab_type": "code",
    "id": "NqaIg1fy9j6V",
    "outputId": "e12497b8-000d-46a8-95a1-8dd0e855e385"
   },
   "outputs": [
    {
     "name": "stdout",
     "output_type": "stream",
     "text": [
      "   Gender  Age Range  Head Size(cm^3)  Brain Weight(grams)\n",
      "0       1          1             4512                 1530\n",
      "1       1          1             3738                 1297\n",
      "2       1          1             4261                 1335\n",
      "3       1          1             3777                 1282\n",
      "4       1          1             4177                 1590\n"
     ]
    }
   ],
   "source": [
    "print(data.head())"
   ]
  },
  {
   "cell_type": "markdown",
   "metadata": {
    "colab_type": "text",
    "id": "gJcalae_9j6d"
   },
   "source": [
    "As you can see there are 237 values in the training set. We will find a linear relationship between Head Size and Brain Weights. So, now we will get the values only for these variables."
   ]
  },
  {
   "cell_type": "code",
   "execution_count": 6,
   "metadata": {
    "colab": {},
    "colab_type": "code",
    "id": "jtoD_W3H9j6f"
   },
   "outputs": [],
   "source": [
    "# getting the values for X and y\n",
    "\n",
    "X = data['Head Size(cm^3)'].values\n",
    "y = data['Brain Weight(grams)'].values"
   ]
  },
  {
   "cell_type": "code",
   "execution_count": 7,
   "metadata": {
    "colab": {},
    "colab_type": "code",
    "id": "T4e1riJr9j6n",
    "outputId": "516c0447-8682-4a21-ce8f-d6291b878a97"
   },
   "outputs": [
    {
     "name": "stdout",
     "output_type": "stream",
     "text": [
      "[4512 3738 4261 3777 4177]\n",
      "[1530 1297 1335 1282 1590]\n"
     ]
    }
   ],
   "source": [
    "print(X[:5]) \n",
    "print(Y[:5])"
   ]
  },
  {
   "cell_type": "markdown",
   "metadata": {
    "colab_type": "text",
    "id": "CjMcSwgJ9j6w"
   },
   "source": [
    "<h2>Finding Coefficients</h2>"
   ]
  },
  {
   "cell_type": "markdown",
   "metadata": {
    "colab_type": "text",
    "id": "sWybrPSe9j6z"
   },
   "source": [
    "To find the values β1 and β0, we will need mean of X and Y. We will find these and the coeffients."
   ]
  },
  {
   "cell_type": "code",
   "execution_count": 8,
   "metadata": {
    "colab": {},
    "colab_type": "code",
    "id": "T_tiWNnq9j61",
    "outputId": "48692d34-c34a-4064-be7b-0782ce45bc0c"
   },
   "outputs": [
    {
     "name": "stdout",
     "output_type": "stream",
     "text": [
      "0.26342933948939945 325.57342104944223\n"
     ]
    }
   ],
   "source": [
    "#Mean of X and Y\n",
    "\n",
    "mean_x = np.mean(X)\n",
    "mean_y = np.mean(Y)\n",
    "\n",
    "#Total number of values\n",
    "m = len(X)\n",
    "\n",
    "#Using the formula to calculate b1 and b2\n",
    "number = 0\n",
    "denom = 0\n",
    "for i in range(m):\n",
    "    number += (X[i] - mean_x) * (Y[i] - mean_y)\n",
    "    denom += (X[i] - mean_x) ** 2\n",
    "b1 = number / denom\n",
    "b0 = mean_y - (b1*mean_x)\n",
    "\n",
    "#print coefficients\n",
    "print(b1, b0)"
   ]
  },
  {
   "cell_type": "markdown",
   "metadata": {
    "colab_type": "text",
    "id": "uMSuKt8s9j69"
   },
   "source": [
    "BrainWeight=325.573421049+0.263429339489∗HeadSize\n",
    "\n",
    "It represents for every 1 cm^3 of headsize, the brain weight is 0.26g "
   ]
  },
  {
   "cell_type": "markdown",
   "metadata": {
    "colab_type": "text",
    "id": "b16cJGKU9j6_"
   },
   "source": [
    "This is our Linear Value"
   ]
  },
  {
   "cell_type": "markdown",
   "metadata": {
    "colab_type": "text",
    "id": "03U2fnrj9j7A"
   },
   "source": [
    "<h2>Plotting a Graphs</h2>"
   ]
  },
  {
   "cell_type": "code",
   "execution_count": 9,
   "metadata": {
    "colab": {},
    "colab_type": "code",
    "id": "vXS3U3G19j7D",
    "outputId": "acb286f2-6b31-419c-e048-16998d8da718"
   },
   "outputs": [
    {
     "data": {
      "image/png": "[encoded data removed]",
      "text/plain": [
       "<Figure size 432x288 with 1 Axes>"
      ]
     },
     "metadata": {
      "needs_background": "light"
     },
     "output_type": "display_data"
    }
   ],
   "source": [
    "# plotting values in regression line\n",
    "\n",
    "y_pred = b0 + b1 * X\n",
    "\n",
    "#plotting line \n",
    "plt.plot(X, y_pred, color='#58b970', label='Regression Line')\n",
    "\n",
    "#plotting scatter plot\n",
    "plt.scatter(X, Y, c='#ef5423', label='Scatter plot')\n",
    "\n",
    "plt.xlabel('Head Size in cm3')\n",
    "plt.ylabel('Brain weight in grams')\n",
    "plt.legend()\n",
    "plt.show()"
   ]
  },
  {
   "cell_type": "markdown",
   "metadata": {
    "colab_type": "text",
    "id": "xoE6XTu89j7O"
   },
   "source": [
    "<h2>Find the Root Mean Square</h2>"
   ]
  },
  {
   "cell_type": "markdown",
   "metadata": {
    "colab_type": "text",
    "id": "7gXW9U8R9j7P"
   },
   "source": [
    "Root Mean Squared Error is the square root of sum of all errors divided by number of values, or Mathematically,"
   ]
  },
  {
   "cell_type": "code",
   "execution_count": 11,
   "metadata": {
    "colab": {},
    "colab_type": "code",
    "id": "Qk1nAn1P9j7S",
    "outputId": "358674e0-76c9-4e23-94bf-9194487f3990"
   },
   "outputs": [
    {
     "name": "stdout",
     "output_type": "stream",
     "text": [
      "72.1206213783709\n"
     ]
    }
   ],
   "source": [
    "#calculating Root Mean Square Error\n",
    "\n",
    "rmse = 0\n",
    "for i in range(m):\n",
    "    y_pred = b0 + b1 * X[i]\n",
    "    rmse += (Y[i] - y_pred) ** 2\n",
    "rmse = np.sqrt(rmse/m)\n",
    "print(rmse)"
   ]
  },
  {
   "cell_type": "markdown",
   "metadata": {
    "colab_type": "text",
    "id": "_Z2ltGyO9j7Z"
   },
   "source": [
    "<h2>Find the R^2 value</h2>"
   ]
  },
  {
   "cell_type": "markdown",
   "metadata": {
    "colab_type": "text",
    "id": "g_A7hs-K9j7f"
   },
   "source": [
    "R-squared is a statistical measure of how close the data are to the fitted regression line. It is also known as the coefficient of determination, or the coefficient of multiple determination for multiple regression\n",
    "\n",
    "SSt\n",
    "  is the total sum of squares and SSr\n",
    " is the total sum of squares of residuals.\n",
    "\n",
    "R2\n",
    " Score usually range from 0 to 1 (0% - 100%). It will also become negative if the model is completely wrong. Now we will find R2\n",
    " Score."
   ]
  },
  {
   "cell_type": "code",
   "execution_count": 12,
   "metadata": {
    "colab": {},
    "colab_type": "code",
    "id": "MHC_I10l9j7j",
    "outputId": "c3168bd9-f31a-4485-e6b7-5887a02b9a41"
   },
   "outputs": [
    {
     "name": "stdout",
     "output_type": "stream",
     "text": [
      "0.6393117199570003\n"
     ]
    }
   ],
   "source": [
    "ss_t = 0\n",
    "ss_r = 0\n",
    "for i in range(m):\n",
    "    y_pred = b0 + b1 * X[i]\n",
    "    ss_t += (Y[i] - mean_y) ** 2\n",
    "    ss_r += (Y[i] - y_pred) ** 2\n",
    "r2 = 1 - (ss_r/ss_t)\n",
    "print(r2)"
   ]
  },
  {
   "cell_type": "markdown",
   "metadata": {
    "colab": {},
    "colab_type": "code",
    "id": "FrZGO0-S9j7y"
   },
   "source": [
    "0% - represents the model doesnot explain any of the variance in the response variable around the mean\n",
    "100% - represnets the model explains all the variation in the response variable around its mean\n",
    "\n",
    "R^2 between 85 - 100% generally a good fit for the model"
   ]
  },
  {
   "cell_type": "code",
   "execution_count": null,
   "metadata": {},
   "outputs": [],
   "source": []
  }
 ],
 "metadata": {
  "colab": {
   "name": "LinearReg_Experiment_1.ipynb",
   "provenance": []
  },
  "kernelspec": {
   "display_name": "Python 3",
   "language": "python3",
   "name": "python3"
  },
  "language_info": {
   "codemirror_mode": {
    "name": "ipython",
    "version": 3
   },
   "file_extension": ".py",
   "mimetype": "text/x-python",
   "name": "python",
   "nbconvert_exporter": "python",
   "pygments_lexer": "ipython3",
   "version": "3.6.8"
  }
 },
 "nbformat": 4,
 "nbformat_minor": 1
}
